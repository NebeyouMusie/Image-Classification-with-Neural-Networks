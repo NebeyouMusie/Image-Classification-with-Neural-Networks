{
  "nbformat": 4,
  "nbformat_minor": 0,
  "metadata": {
    "colab": {
      "provenance": []
    },
    "kernelspec": {
      "name": "python3",
      "display_name": "Python 3"
    },
    "language_info": {
      "name": "python"
    }
  },
  "cells": [
    {
      "cell_type": "markdown",
      "source": [
        "# Classification with Neural Networks\n",
        "- Classification is the task of categorizing the known classes based on their features. In most classification problems, machine learning algorithms will do the job, but while classifying a large dataset of images, you will need to use a neural network.\n",
        "\n",
        "### Content\n",
        "- Each image is 28 pixels in height and 28 pixels in width, for a total of 784 pixels in total. Each pixel has a single pixel-value associated with it, indicating the lightness or darkness of that pixel, with higher numbers meaning darker. This pixel-value is an integer between 0 and 255. The training and test data sets have 785 columns. The first column consists of the class labels (see above), and represents the article of clothing. The rest of the columns contain the pixel-values of the associated image.\n",
        "\n",
        "- To locate a pixel on the image, suppose that we have decomposed x as x = i * 28 + j, where i and j are integers between 0 and 27. The pixel is located on row i and column j of a 28 x 28 matrix.\n",
        "- For example, pixel31 indicates the pixel that is in the fourth column from the left, and the second row from the top, as in the ascii-diagram below.\n",
        "\n",
        "\n",
        "## Labels\n",
        "\n",
        "- Each training and test example is assigned to one of the following labels:\n",
        "\n",
        "1. 0 for T-shirt/top\n",
        "2. 1 for Trouser\n",
        "3. 2 for Pullover\n",
        "4. 3 for Dress\n",
        "5. 4 for Coat\n",
        "6. 5 for Sandal\n",
        "7. 6 for Shirt\n",
        "8. 7 for Sneaker\n",
        "9. 8 for Bag\n",
        "10. 9 for Ankle boot"
      ],
      "metadata": {
        "id": "KCqyPCXCBCKM"
      }
    },
    {
      "cell_type": "markdown",
      "source": [
        "- Let's start the task by first importing the necessary python libraries"
      ],
      "metadata": {
        "id": "8Zv3BAWCBJsn"
      }
    },
    {
      "cell_type": "code",
      "execution_count": 3,
      "metadata": {
        "id": "Si-A2JvmAnEv"
      },
      "outputs": [],
      "source": [
        "import tensorflow as tf\n",
        "from tensorflow import keras\n",
        "import numpy as np\n",
        "import matplotlib.pyplot as plt"
      ]
    },
    {
      "cell_type": "markdown",
      "source": [
        "- Let's load the [MNIST fashion dataset](https://www.kaggle.com/datasets/zalando-research/fashionmnist)"
      ],
      "metadata": {
        "id": "jB7zWasUBhGW"
      }
    },
    {
      "cell_type": "code",
      "source": [
        "fashion = keras.datasets.fashion_mnist\n",
        "(X_train, y_train), (X_test, y_test) = fashion.load_data()"
      ],
      "metadata": {
        "colab": {
          "base_uri": "https://localhost:8080/"
        },
        "id": "ZuQ8lf_uBf-x",
        "outputId": "2ecfd5ce-9c80-41d5-88ca-350ecb502663"
      },
      "execution_count": 2,
      "outputs": [
        {
          "output_type": "stream",
          "name": "stdout",
          "text": [
            "Downloading data from https://storage.googleapis.com/tensorflow/tf-keras-datasets/train-labels-idx1-ubyte.gz\n",
            "29515/29515 [==============================] - 0s 0us/step\n",
            "Downloading data from https://storage.googleapis.com/tensorflow/tf-keras-datasets/train-images-idx3-ubyte.gz\n",
            "26421880/26421880 [==============================] - 0s 0us/step\n",
            "Downloading data from https://storage.googleapis.com/tensorflow/tf-keras-datasets/t10k-labels-idx1-ubyte.gz\n",
            "5148/5148 [==============================] - 0s 0us/step\n",
            "Downloading data from https://storage.googleapis.com/tensorflow/tf-keras-datasets/t10k-images-idx3-ubyte.gz\n",
            "4422102/4422102 [==============================] - 0s 0us/step\n"
          ]
        }
      ]
    },
    {
      "cell_type": "markdown",
      "source": [
        "- Let's look at the shape of the training and test data"
      ],
      "metadata": {
        "id": "Z2vyb4CFDCCl"
      }
    },
    {
      "cell_type": "code",
      "source": [
        "print('X_train', X_train.shape)\n",
        "print('X_test', X_test.shape)\n",
        "print('y_train', y_train.shape)\n",
        "print('y_test', y_test.shape)"
      ],
      "metadata": {
        "colab": {
          "base_uri": "https://localhost:8080/"
        },
        "id": "mEEFNAFtCQO3",
        "outputId": "38e237aa-8b94-4061-b81a-e482880e72c2"
      },
      "execution_count": 4,
      "outputs": [
        {
          "output_type": "stream",
          "name": "stdout",
          "text": [
            "X_train (60000, 28, 28)\n",
            "X_test (10000, 28, 28)\n",
            "y_train (60000,)\n",
            "y_test (10000,)\n"
          ]
        }
      ]
    },
    {
      "cell_type": "markdown",
      "source": [
        "- Let's have a look at one of the samples of the images from the dataset"
      ],
      "metadata": {
        "id": "tw3ydGd0G18f"
      }
    },
    {
      "cell_type": "markdown",
      "source": [
        "## Building a Neural Network Architecture\n",
        "- Now we will build a neural network architecture with two hidden layers"
      ],
      "metadata": {
        "id": "RpzNTxqKDjF9"
      }
    },
    {
      "cell_type": "code",
      "source": [
        "imgIndex = 9\n",
        "image = X_train[imgIndex]\n",
        "print('Image Label: ', y_train[imgIndex])\n",
        "plt.imshow(image)"
      ],
      "metadata": {
        "colab": {
          "base_uri": "https://localhost:8080/",
          "height": 465
        },
        "id": "1lUIJl3NG9aa",
        "outputId": "a4c311a2-f363-4b76-9ea8-0bb53bafab69"
      },
      "execution_count": 11,
      "outputs": [
        {
          "output_type": "stream",
          "name": "stdout",
          "text": [
            "Image Label:  4\n"
          ]
        },
        {
          "output_type": "execute_result",
          "data": {
            "text/plain": [
              "<matplotlib.image.AxesImage at 0x7c8384246320>"
            ]
          },
          "metadata": {},
          "execution_count": 11
        },
        {
          "output_type": "display_data",
          "data": {
            "text/plain": [
              "<Figure size 640x480 with 1 Axes>"
            ],
            "image/png": "[encoded data removed]"
          },
          "metadata": {}
        }
      ]
    },
    {
      "cell_type": "code",
      "source": [
        "model = keras.models.Sequential([\n",
        "    keras.layers.Flatten(input_shape = [28,28]), # input layer\n",
        "    keras.layers.Dense(300, activation='relu'), # hidden layer\n",
        "    keras.layers.Dense(100, activation='relu'), # hidden layer\n",
        "    keras.layers.Dense(10, activation='softmax') # output layer\n",
        "])\n",
        "model.summary()"
      ],
      "metadata": {
        "colab": {
          "base_uri": "https://localhost:8080/"
        },
        "id": "suGVbrdbDnFW",
        "outputId": "b8f14ee7-56bc-4bba-c60f-13906a60148f"
      },
      "execution_count": 6,
      "outputs": [
        {
          "output_type": "stream",
          "name": "stdout",
          "text": [
            "Model: \"sequential_1\"\n",
            "_________________________________________________________________\n",
            " Layer (type)                Output Shape              Param #   \n",
            "=================================================================\n",
            " flatten_1 (Flatten)         (None, 784)               0         \n",
            "                                                                 \n",
            " dense_3 (Dense)             (None, 300)               235500    \n",
            "                                                                 \n",
            " dense_4 (Dense)             (None, 100)               30100     \n",
            "                                                                 \n",
            " dense_5 (Dense)             (None, 10)                1010      \n",
            "                                                                 \n",
            "=================================================================\n",
            "Total params: 266610 (1.02 MB)\n",
            "Trainable params: 266610 (1.02 MB)\n",
            "Non-trainable params: 0 (0.00 Byte)\n",
            "_________________________________________________________________\n"
          ]
        }
      ]
    },
    {
      "cell_type": "markdown",
      "source": [
        "- Before training our model let's do two tasks:\n",
        "1. scale our data so that our accuracy will increase while training\n",
        "2. split our training data into training and validation sets"
      ],
      "metadata": {
        "id": "fQsMP4YsEY9L"
      }
    },
    {
      "cell_type": "code",
      "source": [
        "X_valid, X_train = X_train[:5000]/255.0, X_train[5000:]/255.0 # scaling and splitting our training data\n",
        "y_valid, y_train = y_train[:5000], y_train[5000:]"
      ],
      "metadata": {
        "id": "xPO-a-3kE0Ea"
      },
      "execution_count": 7,
      "outputs": []
    },
    {
      "cell_type": "markdown",
      "source": [
        "# Training a Classification Model with Neural Networks\n",
        "- Now here’s how we can train a neural network for the task of image classification"
      ],
      "metadata": {
        "id": "EnTG4NjrFdgz"
      }
    },
    {
      "cell_type": "code",
      "source": [
        "model.compile(loss='sparse_categorical_crossentropy', optimizer='sgd', metrics=['accuracy'])\n",
        "model.fit(X_train, y_train, epochs=30, validation_data=(X_valid, y_valid))"
      ],
      "metadata": {
        "colab": {
          "base_uri": "https://localhost:8080/"
        },
        "id": "ynY-QeCfFh1e",
        "outputId": "33c9c178-8e0d-4f77-b27e-3869311ed496"
      },
      "execution_count": 9,
      "outputs": [
        {
          "output_type": "stream",
          "name": "stdout",
          "text": [
            "Epoch 1/30\n",
            "1719/1719 [==============================] - 10s 6ms/step - loss: 0.7230 - accuracy: 0.7639 - val_loss: 0.5109 - val_accuracy: 0.8300\n",
            "Epoch 2/30\n",
            "1719/1719 [==============================] - 10s 6ms/step - loss: 0.4862 - accuracy: 0.8301 - val_loss: 0.4869 - val_accuracy: 0.8300\n",
            "Epoch 3/30\n",
            "1719/1719 [==============================] - 9s 5ms/step - loss: 0.4429 - accuracy: 0.8441 - val_loss: 0.4357 - val_accuracy: 0.8468\n",
            "Epoch 4/30\n",
            "1719/1719 [==============================] - 9s 5ms/step - loss: 0.4137 - accuracy: 0.8542 - val_loss: 0.4027 - val_accuracy: 0.8606\n",
            "Epoch 5/30\n",
            "1719/1719 [==============================] - 9s 5ms/step - loss: 0.3955 - accuracy: 0.8604 - val_loss: 0.4269 - val_accuracy: 0.8502\n",
            "Epoch 6/30\n",
            "1719/1719 [==============================] - 9s 5ms/step - loss: 0.3784 - accuracy: 0.8652 - val_loss: 0.3846 - val_accuracy: 0.8622\n",
            "Epoch 7/30\n",
            "1719/1719 [==============================] - 8s 5ms/step - loss: 0.3657 - accuracy: 0.8700 - val_loss: 0.3605 - val_accuracy: 0.8752\n",
            "Epoch 8/30\n",
            "1719/1719 [==============================] - 9s 5ms/step - loss: 0.3530 - accuracy: 0.8743 - val_loss: 0.3543 - val_accuracy: 0.8744\n",
            "Epoch 9/30\n",
            "1719/1719 [==============================] - 10s 6ms/step - loss: 0.3447 - accuracy: 0.8768 - val_loss: 0.3482 - val_accuracy: 0.8788\n",
            "Epoch 10/30\n",
            "1719/1719 [==============================] - 9s 5ms/step - loss: 0.3352 - accuracy: 0.8803 - val_loss: 0.3513 - val_accuracy: 0.8754\n",
            "Epoch 11/30\n",
            "1719/1719 [==============================] - 8s 5ms/step - loss: 0.3257 - accuracy: 0.8840 - val_loss: 0.3375 - val_accuracy: 0.8832\n",
            "Epoch 12/30\n",
            "1719/1719 [==============================] - 9s 5ms/step - loss: 0.3190 - accuracy: 0.8856 - val_loss: 0.3272 - val_accuracy: 0.8870\n",
            "Epoch 13/30\n",
            "1719/1719 [==============================] - 9s 5ms/step - loss: 0.3116 - accuracy: 0.8880 - val_loss: 0.3262 - val_accuracy: 0.8846\n",
            "Epoch 14/30\n",
            "1719/1719 [==============================] - 8s 5ms/step - loss: 0.3051 - accuracy: 0.8903 - val_loss: 0.3264 - val_accuracy: 0.8832\n",
            "Epoch 15/30\n",
            "1719/1719 [==============================] - 9s 5ms/step - loss: 0.2986 - accuracy: 0.8923 - val_loss: 0.3302 - val_accuracy: 0.8820\n",
            "Epoch 16/30\n",
            "1719/1719 [==============================] - 9s 5ms/step - loss: 0.2933 - accuracy: 0.8932 - val_loss: 0.3272 - val_accuracy: 0.8848\n",
            "Epoch 17/30\n",
            "1719/1719 [==============================] - 8s 5ms/step - loss: 0.2860 - accuracy: 0.8971 - val_loss: 0.3466 - val_accuracy: 0.8806\n",
            "Epoch 18/30\n",
            "1719/1719 [==============================] - 9s 5ms/step - loss: 0.2820 - accuracy: 0.8987 - val_loss: 0.3217 - val_accuracy: 0.8846\n",
            "Epoch 19/30\n",
            "1719/1719 [==============================] - 9s 5ms/step - loss: 0.2766 - accuracy: 0.8995 - val_loss: 0.3178 - val_accuracy: 0.8882\n",
            "Epoch 20/30\n",
            "1719/1719 [==============================] - 9s 5ms/step - loss: 0.2714 - accuracy: 0.9015 - val_loss: 0.3135 - val_accuracy: 0.8890\n",
            "Epoch 21/30\n",
            "1719/1719 [==============================] - 8s 5ms/step - loss: 0.2672 - accuracy: 0.9037 - val_loss: 0.3095 - val_accuracy: 0.8902\n",
            "Epoch 22/30\n",
            "1719/1719 [==============================] - 9s 5ms/step - loss: 0.2618 - accuracy: 0.9051 - val_loss: 0.3110 - val_accuracy: 0.8896\n",
            "Epoch 23/30\n",
            "1719/1719 [==============================] - 10s 6ms/step - loss: 0.2582 - accuracy: 0.9072 - val_loss: 0.3077 - val_accuracy: 0.8894\n",
            "Epoch 24/30\n",
            "1719/1719 [==============================] - 9s 5ms/step - loss: 0.2535 - accuracy: 0.9089 - val_loss: 0.3036 - val_accuracy: 0.8916\n",
            "Epoch 25/30\n",
            "1719/1719 [==============================] - 9s 5ms/step - loss: 0.2489 - accuracy: 0.9101 - val_loss: 0.2989 - val_accuracy: 0.8948\n",
            "Epoch 26/30\n",
            "1719/1719 [==============================] - 9s 5ms/step - loss: 0.2445 - accuracy: 0.9115 - val_loss: 0.3065 - val_accuracy: 0.8910\n",
            "Epoch 27/30\n",
            "1719/1719 [==============================] - 9s 5ms/step - loss: 0.2414 - accuracy: 0.9132 - val_loss: 0.3068 - val_accuracy: 0.8884\n",
            "Epoch 28/30\n",
            "1719/1719 [==============================] - 8s 4ms/step - loss: 0.2367 - accuracy: 0.9145 - val_loss: 0.3065 - val_accuracy: 0.8906\n",
            "Epoch 29/30\n",
            "1719/1719 [==============================] - 10s 6ms/step - loss: 0.2327 - accuracy: 0.9174 - val_loss: 0.2941 - val_accuracy: 0.8942\n",
            "Epoch 30/30\n",
            "1719/1719 [==============================] - 9s 5ms/step - loss: 0.2301 - accuracy: 0.9173 - val_loss: 0.2964 - val_accuracy: 0.8962\n"
          ]
        },
        {
          "output_type": "execute_result",
          "data": {
            "text/plain": [
              "<keras.src.callbacks.History at 0x7c8384659060>"
            ]
          },
          "metadata": {},
          "execution_count": 9
        }
      ]
    },
    {
      "cell_type": "markdown",
      "source": [
        "- Now, let's have a look at the predictions"
      ],
      "metadata": {
        "id": "zMwscCFOGQRc"
      }
    },
    {
      "cell_type": "code",
      "source": [
        "predictions = model.predict(X_test)\n",
        "predictions"
      ],
      "metadata": {
        "colab": {
          "base_uri": "https://localhost:8080/"
        },
        "id": "hKUdvFG-GUM9",
        "outputId": "9dd95b0e-e5a6-493b-dc12-c59814d265bd"
      },
      "execution_count": 10,
      "outputs": [
        {
          "output_type": "stream",
          "name": "stdout",
          "text": [
            "313/313 [==============================] - 1s 3ms/step\n"
          ]
        },
        {
          "output_type": "execute_result",
          "data": {
            "text/plain": [
              "array([[0.        , 0.        , 0.        , ..., 0.        , 0.        ,\n",
              "        0.99999994],\n",
              "       [0.        , 0.        , 0.99999994, ..., 0.        , 0.        ,\n",
              "        0.        ],\n",
              "       [0.        , 0.99999994, 0.        , ..., 0.        , 0.        ,\n",
              "        0.        ],\n",
              "       ...,\n",
              "       [0.        , 0.        , 0.        , ..., 0.        , 0.99999994,\n",
              "        0.        ],\n",
              "       [0.        , 0.99999994, 0.        , ..., 0.        , 0.        ,\n",
              "        0.        ],\n",
              "       [0.        , 0.        , 0.        , ..., 0.        , 0.        ,\n",
              "        0.        ]], dtype=float32)"
            ]
          },
          "metadata": {},
          "execution_count": 10
        }
      ]
    },
    {
      "cell_type": "markdown",
      "source": [
        "- Let's look at the predicted classes"
      ],
      "metadata": {
        "id": "QOWqZZ6HHaX4"
      }
    },
    {
      "cell_type": "code",
      "source": [
        "classes = np.argmax(predictions, axis=1)\n",
        "classes"
      ],
      "metadata": {
        "colab": {
          "base_uri": "https://localhost:8080/"
        },
        "id": "Ff_IyrceGdL5",
        "outputId": "df5dc7d0-46e9-4731-8479-dc14ab376845"
      },
      "execution_count": 13,
      "outputs": [
        {
          "output_type": "execute_result",
          "data": {
            "text/plain": [
              "array([9, 2, 1, ..., 8, 1, 5])"
            ]
          },
          "metadata": {},
          "execution_count": 13
        }
      ]
    },
    {
      "cell_type": "markdown",
      "source": [
        "- Let's if our model classifies the image well by taking an example from the test then comparing it to our prediction"
      ],
      "metadata": {
        "id": "mpDt-BIoISMv"
      }
    },
    {
      "cell_type": "code",
      "source": [
        "# display an image from our test data\n",
        "plt.imshow(X_test[0])"
      ],
      "metadata": {
        "colab": {
          "base_uri": "https://localhost:8080/",
          "height": 447
        },
        "id": "AS4JVB4ZIfdR",
        "outputId": "db62d624-6f0b-4200-c928-68f4c6a6cbcd"
      },
      "execution_count": 15,
      "outputs": [
        {
          "output_type": "execute_result",
          "data": {
            "text/plain": [
              "<matplotlib.image.AxesImage at 0x7c8387efc5b0>"
            ]
          },
          "metadata": {},
          "execution_count": 15
        },
        {
          "output_type": "display_data",
          "data": {
            "text/plain": [
              "<Figure size 640x480 with 1 Axes>"
            ],
            "image/png": "[encoded data removed]"
          },
          "metadata": {}
        }
      ]
    },
    {
      "cell_type": "code",
      "source": [
        "# checking the predicted output\n",
        "print(np.argmax(predictions[0])) # np.argmax finds a maximum element from an array and returns the index of it"
      ],
      "metadata": {
        "colab": {
          "base_uri": "https://localhost:8080/"
        },
        "id": "0VS4Fh57I9rL",
        "outputId": "75e661b8-8b36-4cab-e68a-bea1478295c7"
      },
      "execution_count": 16,
      "outputs": [
        {
          "output_type": "stream",
          "name": "stdout",
          "text": [
            "9\n"
          ]
        }
      ]
    },
    {
      "cell_type": "markdown",
      "source": [
        "- As you can see the image was an Ankle boot and our model predicted it eith the label 9 which is representation for sn Ankle boot"
      ],
      "metadata": {
        "id": "VUX3v-jzJglU"
      }
    },
    {
      "cell_type": "markdown",
      "source": [
        "### Confusion matrix"
      ],
      "metadata": {
        "id": "IlCNudIlI9Ve"
      }
    },
    {
      "cell_type": "code",
      "source": [
        "import seaborn as sns\n",
        "\n",
        "# let's assign the predictions and labels for the predictions\n",
        "y_predicted = predictions\n",
        "y_predicted_labels = [np.argmax(i) for i in y_predicted]\n",
        "\n",
        "# calculate the confusion matrix\n",
        "cm = tf.math.confusion_matrix(labels=y_test, predictions=y_predicted_labels)\n",
        "\n",
        "# let's plot a heatmap to visulize the confusion matrix\n",
        "plt.figure(figsize=(10,7))\n",
        "sns.heatmap(cm, annot=True, fmt='d')\n",
        "plt.xlabel('Predicted')\n",
        "plt.ylabel('Truth')"
      ],
      "metadata": {
        "colab": {
          "base_uri": "https://localhost:8080/",
          "height": 517
        },
        "id": "xLt_hmFHKb5y",
        "outputId": "6771e661-606c-4d0c-e9f8-e71cf705adb0"
      },
      "execution_count": 18,
      "outputs": [
        {
          "output_type": "execute_result",
          "data": {
            "text/plain": [
              "Text(95.72222222222221, 0.5, 'Truth')"
            ]
          },
          "metadata": {},
          "execution_count": 18
        },
        {
          "output_type": "display_data",
          "data": {
            "text/plain": [
              "<Figure size 1000x700 with 2 Axes>"
            ],
            "image/png": "[encoded data removed]"
          },
          "metadata": {}
        }
      ]
    },
    {
      "cell_type": "markdown",
      "source": [
        "- As you can see from the above heatmap there were some misclassifications from our model for instance, there were 312 misclassifications for the truth value 2 which was predicted as 4 which is not correct.\n",
        "- To boost our neural network's accuracy we can do the following:\n",
        "  - More & clean data\n",
        "  - Tune hyperparameters (learning rate, etc.)\n",
        "  - Regularize (dropout)\n",
        "  - Try more layers/neurons (but avoid overfitting)\n",
        "  - Train for more epochs (until it stops improving)"
      ],
      "metadata": {
        "id": "LMMeyXdOLfvT"
      }
    }
  ]
}